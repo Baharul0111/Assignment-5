{
 "cells": [
  {
   "cell_type": "code",
   "execution_count": 1,
   "id": "604ec026-c433-4fac-9631-7f1bb61b6d36",
   "metadata": {},
   "outputs": [
    {
     "data": {
      "text/plain": [
       "'Guido van Rossum created Python Programming language'"
      ]
     },
     "execution_count": 1,
     "metadata": {},
     "output_type": "execute_result"
    }
   ],
   "source": [
    "#question 1\n",
    "'''Guido van Rossum created Python Programming language'''"
   ]
  },
  {
   "cell_type": "code",
   "execution_count": 2,
   "id": "f91f8a8e-079c-422a-80df-c03f1936161b",
   "metadata": {},
   "outputs": [
    {
     "data": {
      "text/plain": [
       "'Python supports imperative, functional, procedural, and object-oriented programming'"
      ]
     },
     "execution_count": 2,
     "metadata": {},
     "output_type": "execute_result"
    }
   ],
   "source": [
    "#question 2\n",
    "'''Python supports imperative, functional, procedural, and object-oriented programming'''"
   ]
  },
  {
   "cell_type": "code",
   "execution_count": 3,
   "id": "9be56464-2993-4cb9-8f5b-b940e0ffe7e0",
   "metadata": {},
   "outputs": [
    {
     "data": {
      "text/plain": [
       "'Yes Python is case sensitive'"
      ]
     },
     "execution_count": 3,
     "metadata": {},
     "output_type": "execute_result"
    }
   ],
   "source": [
    "#question 3\n",
    "'''Yes Python is case sensitive'''"
   ]
  },
  {
   "cell_type": "code",
   "execution_count": 4,
   "id": "3d859e8f-1972-4e1e-bee3-945153936ee5",
   "metadata": {},
   "outputs": [
    {
     "data": {
      "text/plain": [
       "' .py is the extension for python file'"
      ]
     },
     "execution_count": 4,
     "metadata": {},
     "output_type": "execute_result"
    }
   ],
   "source": [
    "#question 4\n",
    "''' .py is the extension for python file'''"
   ]
  },
  {
   "cell_type": "code",
   "execution_count": 5,
   "id": "99ebc7ff-a256-41ce-86ea-f7f34a66311e",
   "metadata": {},
   "outputs": [
    {
     "data": {
      "text/plain": [
       "'Python code is interpreted'"
      ]
     },
     "execution_count": 5,
     "metadata": {},
     "output_type": "execute_result"
    }
   ],
   "source": [
    "#question 5\n",
    "'''Python code is interpreted'''"
   ]
  },
  {
   "cell_type": "code",
   "execution_count": 6,
   "id": "1965dd41-240b-4041-9d0a-6834dca7b485",
   "metadata": {},
   "outputs": [
    {
     "data": {
      "text/plain": [
       "' a module, a function body, and a class definition'"
      ]
     },
     "execution_count": 6,
     "metadata": {},
     "output_type": "execute_result"
    }
   ],
   "source": [
    "#question 6\n",
    "''' a module, a function body, and a class definition'''"
   ]
  },
  {
   "cell_type": "code",
   "execution_count": 7,
   "id": "addddf33-0483-421c-896a-19ced1a4c1c0",
   "metadata": {},
   "outputs": [
    {
     "data": {
      "text/plain": [
       "' # is the character used for single line comment'"
      ]
     },
     "execution_count": 7,
     "metadata": {},
     "output_type": "execute_result"
    }
   ],
   "source": [
    "#question 7\n",
    "''' # is the character used for single line comment'''"
   ]
  },
  {
   "cell_type": "code",
   "execution_count": 8,
   "id": "ebd8cf2c-a417-4826-99f6-9a7e623a2fde",
   "metadata": {},
   "outputs": [
    {
     "data": {
      "text/plain": [
       "'python --version'"
      ]
     },
     "execution_count": 8,
     "metadata": {},
     "output_type": "execute_result"
    }
   ],
   "source": [
    "#question 8\n",
    "'''python --version'''"
   ]
  },
  {
   "cell_type": "code",
   "execution_count": 10,
   "id": "7734f7f1-acb9-4041-867d-d3d8c8994fbf",
   "metadata": {},
   "outputs": [
    {
     "data": {
      "text/plain": [
       "'lambda '"
      ]
     },
     "execution_count": 10,
     "metadata": {},
     "output_type": "execute_result"
    }
   ],
   "source": [
    "#question 9\n",
    "'''lambda '''"
   ]
  },
  {
   "cell_type": "code",
   "execution_count": 11,
   "id": "b418e355-ec85-4f83-b1da-4a055e139c7b",
   "metadata": {},
   "outputs": [
    {
     "data": {
      "text/plain": [
       "' Preferred Installer Program '"
      ]
     },
     "execution_count": 11,
     "metadata": {},
     "output_type": "execute_result"
    }
   ],
   "source": [
    "#question 10\n",
    "''' Preferred Installer Program '''"
   ]
  },
  {
   "cell_type": "code",
   "execution_count": 12,
   "id": "ab91f2c1-39aa-43a8-b3eb-60424594e096",
   "metadata": {},
   "outputs": [
    {
     "data": {
      "text/plain": [
       "' range(), type(), append(), print(), len(), extend(), min(), max(), input(), int(), etc...'"
      ]
     },
     "execution_count": 12,
     "metadata": {},
     "output_type": "execute_result"
    }
   ],
   "source": [
    "#question 11\n",
    "''' range(), type(), append(), print(), len(), extend(), min(), max(), input(), int(), etc...'''"
   ]
  },
  {
   "cell_type": "code",
   "execution_count": 13,
   "id": "c98ef09b-d2d7-40f3-a29b-b75a467be6b3",
   "metadata": {},
   "outputs": [
    {
     "data": {
      "text/plain": [
       "'79 characters'"
      ]
     },
     "execution_count": 13,
     "metadata": {},
     "output_type": "execute_result"
    }
   ],
   "source": [
    "#question 12\n",
    "'''79 characters'''"
   ]
  },
  {
   "cell_type": "code",
   "execution_count": 14,
   "id": "b050f2c2-944c-4069-bfaa-25461d677484",
   "metadata": {},
   "outputs": [
    {
     "data": {
      "text/plain": [
       "'Readable and Maintainable Code, Supports Multiple Programming Paradigms, Extensive Standard Library, High Compatibility, Multiple Open-Source Frameworks and Tools, etc...'"
      ]
     },
     "execution_count": 14,
     "metadata": {},
     "output_type": "execute_result"
    }
   ],
   "source": [
    "#question 13\n",
    "'''Readable and Maintainable Code, Supports Multiple Programming Paradigms, Extensive Standard Library, High Compatibility, Multiple Open-Source Frameworks and Tools, etc...'''"
   ]
  },
  {
   "cell_type": "code",
   "execution_count": 15,
   "id": "593decfe-9105-40fa-9ad8-bcd12285f632",
   "metadata": {},
   "outputs": [
    {
     "data": {
      "text/plain": [
       "\"In Python, memory management is handled by a private heap space. The heap is a region of memory where objects are stored and managed. Python's memory manager takes care of allocating memory for new objects and freeing memory for objects that are no longer in use\""
      ]
     },
     "execution_count": 15,
     "metadata": {},
     "output_type": "execute_result"
    }
   ],
   "source": [
    "#question 14\n",
    "'''In Python, memory management is handled by a private heap space. The heap is a region of memory where objects are stored and managed. Python's memory manager takes care of allocating memory for new objects and freeing memory for objects that are no longer in use'''"
   ]
  },
  {
   "cell_type": "code",
   "execution_count": 17,
   "id": "9dd00ed4-bc5b-46a0-a418-23c26d3c493e",
   "metadata": {},
   "outputs": [
    {
     "ename": "SyntaxError",
     "evalue": "(unicode error) 'unicodeescape' codec can't decode bytes in position 433-434: truncated \\UXXXXXXXX escape (1837291358.py, line 19)",
     "output_type": "error",
     "traceback": [
      "\u001b[0;36m  Cell \u001b[0;32mIn[17], line 19\u001b[0;36m\u001b[0m\n\u001b[0;31m    #Step 8: Now, we can verify if the PATH variable was configured correctly by opening up the terminal and entering the command python --version.'''\u001b[0m\n\u001b[0m                                                                                                                                                      ^\u001b[0m\n\u001b[0;31mSyntaxError\u001b[0m\u001b[0;31m:\u001b[0m (unicode error) 'unicodeescape' codec can't decode bytes in position 433-434: truncated \\UXXXXXXXX escape\n"
     ]
    }
   ],
   "source": [
    "#question 15\n",
    "''' Installation:\n",
    "Step 1: Select Python Version.\n",
    "Step 2: Download Python Executable Installer.\n",
    "Step 3: Run Executable Installer.\n",
    "Step 4: Add Python to Path (Optional)\n",
    "Step 5: Verify Python Was Installed on Windows.\n",
    "Step 6: Verify PIP Was Installed.\n",
    "Steps to add Python to PATH\n",
    "\n",
    "Add python to our PATH variable:\n",
    "Step 1: First, we must find the directory where we installed Python. A typical installation would have the following path, C:\\Users\\MyUserName\\AppData\\Local\\Programs\\Python\\Python310\n",
    "Step 2: Now, we will need to add this to the PATH variable, we right click on \"This PC\" and go to \"Properties\".\n",
    "Step 3: Then, we click on the \"Advanced system settings\" in the menu on the left.going\n",
    "Step 4: In the bottom right, we can see a button labeled \"Environment Variables\". We will click on it to open another window to edit these variables.\n",
    "Step 5: Now, we select the \"Path variable\" in the \"System variables\" section and click \"Edit\". The next screen will show all the directories currently part of the PATH variable.\n",
    "Step 6: Another window opens up where we can see all the paths for the currently configured system variables. To add a new path for our Python program, we will click on the \"New\" button on the right side and paste the path in Step 1\n",
    "Step 7: We have successfully added the path for our Python program to our system's environment variables. The best practice is to restart the system afterward for the change to occur.\n",
    "#Step 8: Now, we can verify if the PATH variable was configured correctly by opening up the terminal and entering the command python --version.'''"
   ]
  },
  {
   "cell_type": "code",
   "execution_count": null,
   "id": "aa8d54cb-5ef6-42ae-b520-999cf10f3387",
   "metadata": {},
   "outputs": [],
   "source": []
  }
 ],
 "metadata": {
  "kernelspec": {
   "display_name": "Python 3 (ipykernel)",
   "language": "python",
   "name": "python3"
  },
  "language_info": {
   "codemirror_mode": {
    "name": "ipython",
    "version": 3
   },
   "file_extension": ".py",
   "mimetype": "text/x-python",
   "name": "python",
   "nbconvert_exporter": "python",
   "pygments_lexer": "ipython3",
   "version": "3.10.8"
  }
 },
 "nbformat": 4,
 "nbformat_minor": 5
}
